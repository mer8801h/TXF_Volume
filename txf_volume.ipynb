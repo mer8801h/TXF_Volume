{
 "cells": [
  {
   "cell_type": "code",
   "execution_count": 5,
   "id": "6416b040-a674-4c89-9422-aed82680646b",
   "metadata": {},
   "outputs": [
    {
     "name": "stdout",
     "output_type": "stream",
     "text": [
      "CSV文件已生成：TXF1_60_分鐘_結果.csv\n"
     ]
    }
   ],
   "source": [
    "import pandas as pd\n",
    "\n",
    "# 讀取CSV文件\n",
    "df = pd.read_csv('TXF1 60 分鐘.csv')\n",
    "\n",
    "# 假設 'Volume' 是需要處理的欄位名稱\n",
    "volume_column = ' <Volume>'\n",
    "\n",
    "# 初始化結果列表\n",
    "results = []\n",
    "\n",
    "# 設定初始窗口大小和開關\n",
    "window_sizes = [5, 14]\n",
    "current_window = 0\n",
    "\n",
    "# 開始進行加總\n",
    "start_index = 0\n",
    "while start_index < len(df):\n",
    "    # 計算當前窗口大小\n",
    "    window_size = window_sizes[current_window % 2]\n",
    "    \n",
    "    # 計算當前窗口的結束索引\n",
    "    end_index = min(start_index + window_size, len(df))\n",
    "    \n",
    "    # 計算當前窗口的加總\n",
    "    window_sum = df[volume_column][start_index:end_index].sum()\n",
    "    \n",
    "    # 將結果添加到列表\n",
    "    results.append(window_sum)\n",
    "    \n",
    "    # 更新起始索引和切換窗口大小\n",
    "    start_index = end_index\n",
    "    current_window += 1\n",
    "\n",
    "# 將結果插入到DataFrame中\n",
    "df['Results'] = pd.Series(results).reindex(df.index)\n",
    "\n",
    "# 將結果寫入新的CSV文件\n",
    "df.to_csv('TXF1_60_分鐘_結果.csv', index=False)\n",
    "\n",
    "print(\"CSV文件已生成：TXF1_60_分鐘_結果.csv\")\n"
   ]
  },
  {
   "cell_type": "code",
   "execution_count": null,
   "id": "9c313f54-5176-4c24-934d-0f2be5e2c629",
   "metadata": {},
   "outputs": [],
   "source": []
  }
 ],
 "metadata": {
  "kernelspec": {
   "display_name": "Python 3 (ipykernel)",
   "language": "python",
   "name": "python3"
  },
  "language_info": {
   "codemirror_mode": {
    "name": "ipython",
    "version": 3
   },
   "file_extension": ".py",
   "mimetype": "text/x-python",
   "name": "python",
   "nbconvert_exporter": "python",
   "pygments_lexer": "ipython3",
   "version": "3.12.4"
  }
 },
 "nbformat": 4,
 "nbformat_minor": 5
}
